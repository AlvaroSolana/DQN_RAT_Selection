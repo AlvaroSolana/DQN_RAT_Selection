{
 "cells": [
  {
   "cell_type": "code",
   "execution_count": 1,
   "metadata": {
    "collapsed": true
   },
   "outputs": [],
   "source": [
    "import pandas as pd\n",
    "import numpy as np\n",
    "from sklearn.ensemble import RandomForestRegressor\n",
    "from sklearn.metrics import mean_squared_error"
   ]
  },
  {
   "cell_type": "code",
   "execution_count": 2,
   "metadata": {
    "collapsed": false,
    "pycharm": {
     "name": "#%%\n"
    }
   },
   "outputs": [],
   "source": [
    "training_data = pd.read_csv('./dataset/dataset_building_floor_train.csv')\n",
    "testing_data = pd.read_csv('./dataset/dataset_building_floor_test.csv')\n",
    "\n",
    "x_train = training_data.loc[:, 'AP1 RTT(mm)':'AP13 RSS(dBm)']\n",
    "x_test = testing_data.loc[:, 'AP1 RTT(mm)':'AP13 RSS(dBm)']\n",
    "\n",
    "y_train = training_data.loc[:, 'X':'Y']\n",
    "y_test = testing_data.loc[:, 'X':'Y']\n",
    "\n",
    "x_train, x_test, y_train, y_test = x_train.values, x_test.values, y_train.values, y_test.values"
   ]
  },
  {
   "cell_type": "code",
   "execution_count": 3,
   "metadata": {
    "collapsed": false,
    "pycharm": {
     "name": "#%%\n"
    }
   },
   "outputs": [
    {
     "name": "stdout",
     "output_type": "stream",
     "text": [
      "RMSE is  0.6123878724705811 metres\n"
     ]
    }
   ],
   "source": [
    "np.random.seed(60)\n",
    "\n",
    "RF = RandomForestRegressor()\n",
    "RF.fit(x_train, y_train)\n",
    "y_pred = RF.predict(x_test)\n",
    "\n",
    "RMSE = mean_squared_error(y_test, y_pred, squared=False)\n",
    "tile_length = 0.6\n",
    "print('RMSE is ',RMSE * tile_length,'metres')\n"
   ]
  }
 ],
 "metadata": {
  "kernelspec": {
   "display_name": "Python 3",
   "language": "python",
   "name": "python3"
  },
  "language_info": {
   "codemirror_mode": {
    "name": "ipython",
    "version": 2
   },
   "file_extension": ".py",
   "mimetype": "text/x-python",
   "name": "python",
   "nbconvert_exporter": "python",
   "pygments_lexer": "ipython2",
   "version": "3.12.0"
  }
 },
 "nbformat": 4,
 "nbformat_minor": 0
}
